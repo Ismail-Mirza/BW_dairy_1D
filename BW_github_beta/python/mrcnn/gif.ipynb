{
 "cells": [
  {
   "cell_type": "code",
   "execution_count": null,
   "metadata": {},
   "outputs": [],
   "source": [
    "import os\n",
    "os.chdir('/Users/yebi/Library/CloudStorage/OneDrive-VirginiaTech/Research/Codes/research/BCS/BodyWeight') \n",
    "import sys\n",
    "from scipy import stats # summarize data\n",
    "import os\n",
    "import csv\n",
    "from scipy.spatial import distance as dist\n",
    "# from imutils import perspective\n",
    "import numpy as np\n",
    "import cv2\n",
    "import pandas as pd\n",
    "import predict_mrcnn_gif #same folder as this ipynb\n",
    "import skimage.io as io\n",
    "from mrcnn import visualize #this mrcnn is site-package in miniconda environment\n"
   ]
  },
  {
   "cell_type": "code",
   "execution_count": null,
   "metadata": {},
   "outputs": [],
   "source": [
    "img_folder = '/Users/yebi/Library/CloudStorage/OneDrive-VirginiaTech/Research/Codes/research/BCS/BodyWeight/BW_github_beta/python/mrcnn/img/'\n",
    "import matplotlib.pyplot as plt\n",
    "def get_ax(rows=1, cols=1, size=8):\n",
    "    _, ax = plt.subplots(rows, cols, figsize=(size * cols, size * rows))\n",
    "    return ax"
   ]
  },
  {
   "cell_type": "code",
   "execution_count": null,
   "metadata": {},
   "outputs": [],
   "source": [
    "for root, dirs, files in os.walk(img_folder):\n",
    "    print(len(files))"
   ]
  },
  {
   "cell_type": "code",
   "execution_count": null,
   "metadata": {},
   "outputs": [],
   "source": [
    "for root, dirs, files in os.walk(img_folder):\n",
    "    for j in np.arange(0, 3):\n",
    "        file = files[j]\n",
    "        file_path = root + file\n",
    "        img = io.imread(file_path)\n",
    "        ax = get_ax(1)\n",
    "        model = predict_mrcnn_gif.predict_mrcnn(img) #bianry image after mrcnn \n",
    "        results = model.detect([img], verbose=1)\n",
    "        # ax = get_ax(1)\n",
    "        r = results[0]\n",
    "        visualize.display_instances(img, r['rois'], r['masks'], r['class_ids'], \n",
    "                                ['BG', 'cow'], r['scores'], ax=ax,\n",
    "                                title=\"Predictions\",\n",
    "                                colors = [[124/255, 31/255, 242/255]])"
   ]
  }
 ],
 "metadata": {
  "kernelspec": {
   "display_name": "tensorflow",
   "language": "python",
   "name": "python3"
  },
  "language_info": {
   "codemirror_mode": {
    "name": "ipython",
    "version": 3
   },
   "file_extension": ".py",
   "mimetype": "text/x-python",
   "name": "python",
   "nbconvert_exporter": "python",
   "pygments_lexer": "ipython3",
   "version": "3.10.9"
  },
  "orig_nbformat": 4
 },
 "nbformat": 4,
 "nbformat_minor": 2
}
